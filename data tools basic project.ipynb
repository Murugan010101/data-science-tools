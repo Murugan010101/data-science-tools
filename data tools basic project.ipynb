{
 "cells": [
  {
   "cell_type": "markdown",
   "id": "e6c19ba6",
   "metadata": {},
   "source": [
    "## DATA SCIENCE NOTEBOOK \n",
    "\n",
    "# Introduction\n",
    "\n",
    "Welcome to this data science exploration notebook! In this notebook, we will delve into various data science concepts, perform calculations, and showcase different tools and libraries commonly used in the field.\n"
   ]
  },
  {
   "cell_type": "markdown",
   "id": "48204c7f",
   "metadata": {},
   "source": [
    "## Data Science Languages\n",
    "\n",
    "- python\n",
    "- R\n",
    "- Julia\n",
    "- SQL\n",
    "- Scala\n"
   ]
  },
  {
   "cell_type": "markdown",
   "id": "21c901bc",
   "metadata": {},
   "source": [
    "## Data Science Libraries\n",
    "\n",
    "- NumPy\n",
    "- Pandas\n",
    "- Matplotlib\n",
    "- Seaborn\n",
    "- Scikit-learn\n",
    "- TensorFlow\n",
    "- PyTorch\n",
    "\n"
   ]
  },
  {
   "cell_type": "markdown",
   "id": "31e371d1",
   "metadata": {},
   "source": [
    "# "
   ]
  },
  {
   "cell_type": "markdown",
   "id": "b2525020",
   "metadata": {},
   "source": [
    "# Data Science Tools\n",
    "\n",
    "| Tool              | Description                            |\n",
    "|-------------------|----------------------------------------|\n",
    "| Jupyter Notebook  | Interactive coding environment         |\n",
    "| Anaconda          | Package manager and distribution       |\n",
    "| Tableau           | Data visualization and analytics       |\n",
    "| Apache Hadoop     | Distributed data processing framework  |\n",
    "| Apache Spark      | Cluster computing system               |\n",
    "| KNIME             | Visual data science platform           |\n"
   ]
  },
  {
   "cell_type": "markdown",
   "id": "74796a74",
   "metadata": {},
   "source": [
    "# Arithmetic Expression Examples\n",
    "\n",
    "In this section, we will introduce a few examples of arithmetic expressions and calculations.\n"
   ]
  },
  {
   "cell_type": "code",
   "execution_count": 11,
   "id": "0d7f292c",
   "metadata": {},
   "outputs": [
    {
     "name": "stdout",
     "output_type": "stream",
     "text": [
      "Multiplication Result: 50\n",
      "Addition Result: 11\n"
     ]
    }
   ],
   "source": [
    "# Multiplication\n",
    "result_multiply = 5 * 10\n",
    "print(\"Multiplication Result:\", result_multiply)\n",
    "\n",
    "# Addition\n",
    "result_add = 8 + 3\n",
    "print(\"Addition Result:\", result_add)\n"
   ]
  },
  {
   "cell_type": "code",
   "execution_count": 14,
   "id": "8c57ee8a",
   "metadata": {},
   "outputs": [
    {
     "name": "stdout",
     "output_type": "stream",
     "text": [
      "120 minutes is equal to 2.0 hours.\n"
     ]
    }
   ],
   "source": [
    "# Conversion of minutes to hours\n",
    "minutes = 120\n",
    "hours = minutes / 60\n",
    "print(\"120 minutes is equal to\", hours, \"hours.\")\n"
   ]
  },
  {
   "cell_type": "markdown",
   "id": "ba7cf8a0",
   "metadata": {},
   "source": [
    "# Objectives\n",
    "\n",
    "- Understand fundamental data science concepts\n",
    "- Explore popular data science libraries\n",
    "- Perform arithmetic calculations\n",
    "- Demonstrate the use of data science tools\n"
   ]
  },
  {
   "cell_type": "markdown",
   "id": "406b21ef",
   "metadata": {},
   "source": [
    "# Author\n",
    "\n",
    "Author's Name: Murugan B\n"
   ]
  },
  {
   "cell_type": "code",
   "execution_count": null,
   "id": "83790be3",
   "metadata": {},
   "outputs": [],
   "source": []
  }
 ],
 "metadata": {
  "kernelspec": {
   "display_name": "Python 3 (ipykernel)",
   "language": "python",
   "name": "python3"
  },
  "language_info": {
   "codemirror_mode": {
    "name": "ipython",
    "version": 3
   },
   "file_extension": ".py",
   "mimetype": "text/x-python",
   "name": "python",
   "nbconvert_exporter": "python",
   "pygments_lexer": "ipython3",
   "version": "3.10.9"
  }
 },
 "nbformat": 4,
 "nbformat_minor": 5
}
